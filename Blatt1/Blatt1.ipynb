{
 "cells": [
  {
   "cell_type": "markdown",
   "id": "34a31a69",
   "metadata": {},
   "source": [
    "Search.01:\n",
    "\n",
    "Es Gibt 3 Relevante Mengen für dieses Problem\n",
    "\n",
    "E = {0,1,2,3} = Die Anzahl der Elben auf einem Ufer\n",
    "O = {0,1,2,3} = Die Anzahl der Orks auf einem Ufer\n",
    "B = {L,R} = Ist das Boot auf der linken oder Rechten seite\n",
    "\n",
    "in zustandt kann folgend beschrieben werden:\n",
    "Z = (E,O,B)\n",
    "\n",
    "Ich schaue mir das Problem nur von der Linken seite aus an, da sich die Rechte aus der Linken berechnen läst. Rechts = 3 - (zahl elben/Orks Links)\n",
    "\n",
    "Es gibt eine Zulässige Aktion:\n",
    "A = (E,O): Bei jeder Aktion Wird die Seite des Boots gewechselt.\n",
    "\n",
    "für A gilt: {E + O > 0, E < 3, O < 3, E + O < 3}\n",
    " \n",
    "Start ist (3,3,L)\n",
    "Ziel ist (0,0,R)\n",
    "\n",
    "(3,3,L) -> (0,2)\n",
    "(3,1,R) <- (0,1)\n",
    "(3,2,L) -> (0,2)\n",
    "(3,0,R) <- (0,1)\n",
    "(3,1,L) -> (2,0)\n",
    "(1,1,R) <- (1,1)\n",
    "(2,2,L) -> (2,0)\n",
    "(0,2,R) <- (0,1)\n",
    "(0,3,L) -> (0,2)\n",
    "(0,1,R) <- (0,1)\n",
    "(0,2,L) -> (0,2)\n",
    "(0,0,R) Ziel\n"
   ]
  }
 ],
 "metadata": {
  "kernelspec": {
   "display_name": "base",
   "language": "python",
   "name": "python3"
  },
  "language_info": {
   "codemirror_mode": {
    "name": "ipython",
    "version": 3
   },
   "file_extension": ".py",
   "mimetype": "text/x-python",
   "name": "python",
   "nbconvert_exporter": "python",
   "pygments_lexer": "ipython3",
   "version": "3.13.5"
  }
 },
 "nbformat": 4,
 "nbformat_minor": 5
}
