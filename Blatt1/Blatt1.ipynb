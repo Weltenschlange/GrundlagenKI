{
 "cells": [
  {
   "cell_type": "markdown",
   "id": "34a31a69",
   "metadata": {},
   "source": [
    "Search.01:\n",
    "\n",
    "Es Gibt 3 Relevante Mengen für dieses Problem\n",
    "\n",
    "E = {0,1,2,3} = Die Anzahl der Elben auf einem Ufer\n",
    "O = {0,1,2,3} = Die Anzahl der Orks auf einem Ufer\n",
    "B = {L,R} = Ist das Boot auf der linken oder Rechten seite\n",
    "\n",
    "in zustandt kann folgend beschrieben werden:\n",
    "Z = (E,O,B)\n",
    "\n",
    "Ich schaue mir das Problem nur von der Linken seite aus an, da sich die Rechte aus der Linken berechnen läst. Rechts = 3 - (zahl elben/Orks Links)\n",
    "\n",
    "Es gibt eine Zulässige Aktion:\n",
    "A = (E,O): Bei jeder Aktion Wird die Seite des Boots gewechselt.\n",
    "\n",
    "für A gilt: {E + O > 0, E < 3, O < 3, E + O < 3}\n",
    " \n",
    "Start ist (3,3,L)\n",
    "Ziel ist (0,0,R)\n",
    "\n",
    "(3,3,L) -> (0,2)\n",
    "(3,1,R) <- (0,1)\n",
    "(3,2,L) -> (0,2)\n",
    "(3,0,R) <- (0,1)\n",
    "(3,1,L) -> (2,0)\n",
    "(1,1,R) <- (1,1)\n",
    "(2,2,L) -> (2,0)\n",
    "(0,2,R) <- (0,1)\n",
    "(0,3,L) -> (0,2)\n",
    "(0,1,R) <- (0,1)\n",
    "(0,2,L) -> (0,2)\n",
    "(0,0,R) Ziel\n"
   ]
  },
  {
   "cell_type": "markdown",
   "id": "0ada604a",
   "metadata": {},
   "source": [
    "Tiefen Suche\n",
    "\n",
    "Wü                              []\n",
    "Wü-Er, Wü-Fr, Wü-Nü             [Wü]\n",
    "Wü-Fr, Wü-Nü                    [Wü, Er]\n",
    "Wü-Fr-Ka, Wü-Fr-Ma, Wü-Nü       [Wü, Er, Fr]\n",
    "Wü-Fr-Ka-Mü,  Wü-Fr-Ma, Wü-Nü   [Wü, Er, Fr, Ka]\n",
    "\n",
    "Ziel gefunden: Wü-Fr-Ka-Mü"
   ]
  },
  {
   "cell_type": "markdown",
   "id": "de13194e",
   "metadata": {},
   "source": [
    "Breiten Suche\n",
    "\n",
    "[Wü]                        [Wü]\n",
    "[Wü-Er, Wü-Fr, Wü-Nü]       [Wü, WÜ-Er] \n",
    "[Wü-Fr, Wü-Nü]              [Wü, WÜ-Er, WÜ-Fr]\n",
    "[Wü-Nü, Wü-Fr-Ka, Wü-Fr-Ma] [Wü, WÜ-Er, WÜ-Fr, Wü-Nü]\n",
    "[Wü-Fr-Ka, Wü-Fr-Ma, Wü-Nü-Mü, Wü-Nü-St] Ziel Mü genfunden\n",
    "\n",
    "\n",
    "Ziel = Wü-Nü-Mü"
   ]
  },
  {
   "cell_type": "markdown",
   "id": "cdf6e46b",
   "metadata": {},
   "source": [
    "A*\n",
    "\n",
    "Wü_170                                                      [Wü_170]\n",
    "\n",
    "Wü-Er_586, Wü-Fr_317, Wü-Nü_640                             [Wü-Fr_317]\n",
    "\n",
    "Wü-Er_586, Wü-Fr-Ma_502, Wü-Fr-Ka_850, Wü-Nü_640            [Wü-Fr-Ma_502]\n",
    "\n",
    "Wü-Er_586, Wü-Fr-Ma-Kar_392, Wü-Fr-Kas_850 , Wü-Nü_640      [Wü-Fr-Ma-Kar_392]\n",
    "\n",
    "Wü-Er_586, Wü-Fr-Ma-Ka-Au_632, Wü-Fr-Ka_850 , Wü-Nü_640     [Wü-Er_586]\n",
    "\n",
    "Wü-Fr-Ma-Ka-Au_632, Wü-Fr-Ka_850 , Wü-Nü_640                [Wü-Fr-Ma-Ka-Au_632]\n",
    "\n",
    "Wü-Fr-Ma-Ka-Au-Mü_716, Wü-Fr-Ka_850 , Wü-Nü_640             [Wü-Fr-Ma-Ka-Au-Mü_716]\n",
    "\n",
    "Ziel Gefunden: Wü-Fr-Ma-Ka-Au-Mü_716\n",
    "\n",
    "\n",
    "Nein die Restkostenabschätzungen ist nicht zulässig, da die schätzung bei Nürnberg zu groß ist\n",
    "um Gültig zu sein muss Nürnbergs h(n) <= 167 sein\n",
    "\n",
    "Alle anderen schätzungen sind Optimistisch\n",
    "\n",
    "Nürnbers schätzung ist jetzs = 10\n",
    "\n",
    "Wü_170                                                      [Wü_170]\n",
    "\n",
    "Wü-Er_586, Wü-Fr_317, Wü-Nü_113                             [Wü-Nü_113]\n",
    "\n",
    "Wü-Er_586, Wü-Fr_317, Wü-Nü-Mü_270, Wü-Nü-St_586            [Wü-Nü-Mü_270]\n",
    "\n",
    "Ziel Gefunden: Wü-Nü-Mü_270"
   ]
  }
 ],
 "metadata": {
  "kernelspec": {
   "display_name": "base",
   "language": "python",
   "name": "python3"
  },
  "language_info": {
   "codemirror_mode": {
    "name": "ipython",
    "version": 3
   },
   "file_extension": ".py",
   "mimetype": "text/x-python",
   "name": "python",
   "nbconvert_exporter": "python",
   "pygments_lexer": "ipython3",
   "version": "3.13.5"
  }
 },
 "nbformat": 4,
 "nbformat_minor": 5
}
